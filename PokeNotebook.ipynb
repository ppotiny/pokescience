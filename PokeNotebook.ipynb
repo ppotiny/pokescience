{
 "cells": [
  {
   "cell_type": "code",
   "execution_count": 2,
   "metadata": {
    "collapsed": false,
    "scrolled": false
   },
   "outputs": [
    {
     "data": {
      "text/html": [
       "<div style=\"max-height:1000px;max-width:1500px;overflow:auto;\">\n",
       "<table border=\"1\" class=\"dataframe\">\n",
       "  <thead>\n",
       "    <tr style=\"text-align: right;\">\n",
       "      <th></th>\n",
       "      <th>id</th>\n",
       "      <th>identifier</th>\n",
       "      <th>generation_id</th>\n",
       "      <th>evolution_chain_id</th>\n",
       "      <th>gender_rate</th>\n",
       "      <th>capture_rate</th>\n",
       "      <th>base_happiness</th>\n",
       "      <th>has_gender_differences</th>\n",
       "      <th>type1</th>\n",
       "      <th>type2</th>\n",
       "      <th>attack</th>\n",
       "      <th>defense</th>\n",
       "      <th>hp</th>\n",
       "      <th>special-attack</th>\n",
       "      <th>special-defense</th>\n",
       "      <th>speed</th>\n",
       "    </tr>\n",
       "  </thead>\n",
       "  <tbody>\n",
       "    <tr>\n",
       "      <th>0</th>\n",
       "      <td> 1</td>\n",
       "      <td>  bulbasaur</td>\n",
       "      <td> 1</td>\n",
       "      <td> 1</td>\n",
       "      <td> 1</td>\n",
       "      <td> 45</td>\n",
       "      <td> 70</td>\n",
       "      <td> 0</td>\n",
       "      <td> grass</td>\n",
       "      <td> poison</td>\n",
       "      <td> 49</td>\n",
       "      <td> 49</td>\n",
       "      <td> 45</td>\n",
       "      <td>  65</td>\n",
       "      <td>  65</td>\n",
       "      <td> 45</td>\n",
       "    </tr>\n",
       "    <tr>\n",
       "      <th>1</th>\n",
       "      <td> 2</td>\n",
       "      <td>    ivysaur</td>\n",
       "      <td> 1</td>\n",
       "      <td> 1</td>\n",
       "      <td> 1</td>\n",
       "      <td> 45</td>\n",
       "      <td> 70</td>\n",
       "      <td> 0</td>\n",
       "      <td> grass</td>\n",
       "      <td> poison</td>\n",
       "      <td> 62</td>\n",
       "      <td> 63</td>\n",
       "      <td> 60</td>\n",
       "      <td>  80</td>\n",
       "      <td>  80</td>\n",
       "      <td> 60</td>\n",
       "    </tr>\n",
       "    <tr>\n",
       "      <th>2</th>\n",
       "      <td> 3</td>\n",
       "      <td>   venusaur</td>\n",
       "      <td> 1</td>\n",
       "      <td> 1</td>\n",
       "      <td> 1</td>\n",
       "      <td> 45</td>\n",
       "      <td> 70</td>\n",
       "      <td> 1</td>\n",
       "      <td> grass</td>\n",
       "      <td> poison</td>\n",
       "      <td> 82</td>\n",
       "      <td> 83</td>\n",
       "      <td> 80</td>\n",
       "      <td> 100</td>\n",
       "      <td> 100</td>\n",
       "      <td> 80</td>\n",
       "    </tr>\n",
       "    <tr>\n",
       "      <th>3</th>\n",
       "      <td> 4</td>\n",
       "      <td> charmander</td>\n",
       "      <td> 1</td>\n",
       "      <td> 2</td>\n",
       "      <td> 1</td>\n",
       "      <td> 45</td>\n",
       "      <td> 70</td>\n",
       "      <td> 0</td>\n",
       "      <td>  fire</td>\n",
       "      <td>    NaN</td>\n",
       "      <td> 52</td>\n",
       "      <td> 43</td>\n",
       "      <td> 39</td>\n",
       "      <td>  60</td>\n",
       "      <td>  50</td>\n",
       "      <td> 65</td>\n",
       "    </tr>\n",
       "    <tr>\n",
       "      <th>4</th>\n",
       "      <td> 5</td>\n",
       "      <td> charmeleon</td>\n",
       "      <td> 1</td>\n",
       "      <td> 2</td>\n",
       "      <td> 1</td>\n",
       "      <td> 45</td>\n",
       "      <td> 70</td>\n",
       "      <td> 0</td>\n",
       "      <td>  fire</td>\n",
       "      <td>    NaN</td>\n",
       "      <td> 64</td>\n",
       "      <td> 58</td>\n",
       "      <td> 58</td>\n",
       "      <td>  80</td>\n",
       "      <td>  65</td>\n",
       "      <td> 80</td>\n",
       "    </tr>\n",
       "  </tbody>\n",
       "</table>\n",
       "<p>5 rows × 16 columns</p>\n",
       "</div>"
      ],
      "text/plain": [
       "   id  identifier  generation_id  evolution_chain_id  gender_rate  \\\n",
       "0   1   bulbasaur              1                   1            1   \n",
       "1   2     ivysaur              1                   1            1   \n",
       "2   3    venusaur              1                   1            1   \n",
       "3   4  charmander              1                   2            1   \n",
       "4   5  charmeleon              1                   2            1   \n",
       "\n",
       "   capture_rate  base_happiness  has_gender_differences  type1   type2  \\\n",
       "0            45              70                       0  grass  poison   \n",
       "1            45              70                       0  grass  poison   \n",
       "2            45              70                       1  grass  poison   \n",
       "3            45              70                       0   fire     NaN   \n",
       "4            45              70                       0   fire     NaN   \n",
       "\n",
       "   attack  defense  hp  special-attack  special-defense  speed  \n",
       "0      49       49  45              65               65     45  \n",
       "1      62       63  60              80               80     60  \n",
       "2      82       83  80             100              100     80  \n",
       "3      52       43  39              60               50     65  \n",
       "4      64       58  58              80               65     80  \n",
       "\n",
       "[5 rows x 16 columns]"
      ]
     },
     "execution_count": 2,
     "metadata": {},
     "output_type": "execute_result"
    }
   ],
   "source": [
    "import pandas as pd\n",
    "\n",
    "pk = pd.read_csv('pokemon_data.csv')\n",
    "\n",
    "pk.head()"
   ]
  },
  {
   "cell_type": "code",
   "execution_count": 24,
   "metadata": {
    "collapsed": false
   },
   "outputs": [
    {
     "name": "stdout",
     "output_type": "stream",
     "text": [
      "['dragon', 'steel', 'rock', 'fire', 'flying', 'dark', 'psychic', 'ice', 'ghost', 'water', 'fighting', 'grass', 'ground', 'electric', 'bug', 'fairy', 'normal', 'poison']\n"
     ]
    },
    {
     "data": {
      "text/plain": [
       "<matplotlib.axes._subplots.AxesSubplot at 0x20320c50>"
      ]
     },
     "execution_count": 24,
     "metadata": {},
     "output_type": "execute_result"
    },
    {
     "data": {
      "image/png": "[encoded data removed]",
      "text/plain": [
       "<matplotlib.figure.Figure at 0x1f5f2b00>"
      ]
     },
     "metadata": {},
     "output_type": "display_data"
    }
   ],
   "source": [
    "import seaborn as sns\n",
    "\n",
    "rates = {}\n",
    "for typ in pk['type1'].unique():\n",
    "    rates[pk['capture_rate'].loc[pk['type1'] == typ].mean()] = typ\n",
    "\n",
    "rates = [rates[i] for i in sorted(rates)]\n",
    "                 \n",
    "%matplotlib inline\n",
    "                 \n",
    "sns.barplot(x=pk['capture_rate'], y=pk['type1'], orient = 'h', order = rates)"
   ]
  },
  {
   "cell_type": "code",
   "execution_count": null,
   "metadata": {
    "collapsed": true
   },
   "outputs": [],
   "source": []
  },
  {
   "cell_type": "code",
   "execution_count": null,
   "metadata": {
    "collapsed": true
   },
   "outputs": [],
   "source": []
  }
 ],
 "metadata": {
  "kernelspec": {
   "display_name": "Python 2",
   "language": "python",
   "name": "python2"
  },
  "language_info": {
   "codemirror_mode": {
    "name": "ipython",
    "version": 2
   },
   "file_extension": ".py",
   "mimetype": "text/x-python",
   "name": "python",
   "nbconvert_exporter": "python",
   "pygments_lexer": "ipython2",
   "version": "2.7.9"
  }
 },
 "nbformat": 4,
 "nbformat_minor": 0
}
